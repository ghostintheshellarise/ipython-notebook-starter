{
 "metadata": {
  "name": "",
  "signature": "sha256:95f4585116c2e0e4ea8e6c0f21677e38f1aa4e966d63c62fefc497eb215bccaf"
 },
 "nbformat": 3,
 "nbformat_minor": 0,
 "worksheets": [
  {
   "cells": [
    {
     "cell_type": "code",
     "collapsed": false,
     "input": [
      "import matplotlib"
     ],
     "language": "python",
     "metadata": {},
     "outputs": [],
     "prompt_number": 1
    },
    {
     "cell_type": "code",
     "collapsed": false,
     "input": [
      "matplotlib.__version__"
     ],
     "language": "python",
     "metadata": {},
     "outputs": [
      {
       "metadata": {},
       "output_type": "pyout",
       "prompt_number": 2,
       "text": [
        "'1.3.1'"
       ]
      }
     ],
     "prompt_number": 2
    },
    {
     "cell_type": "code",
     "collapsed": false,
     "input": [
      "matplotlib.__file__"
     ],
     "language": "python",
     "metadata": {},
     "outputs": [
      {
       "metadata": {},
       "output_type": "pyout",
       "prompt_number": 3,
       "text": [
        "'/usr/local/lib/python2.7/site-packages/matplotlib/__init__.pyc'"
       ]
      }
     ],
     "prompt_number": 3
    },
    {
     "cell_type": "code",
     "collapsed": false,
     "input": [
      "matplotlib.get_configdir()"
     ],
     "language": "python",
     "metadata": {},
     "outputs": [
      {
       "metadata": {},
       "output_type": "pyout",
       "prompt_number": 5,
       "text": [
        "'/Users/t-nishibayashi/.matplotlib'"
       ]
      }
     ],
     "prompt_number": 5
    },
    {
     "cell_type": "code",
     "collapsed": false,
     "input": [
      "matplotlib.matplotlib_fname()"
     ],
     "language": "python",
     "metadata": {},
     "outputs": [
      {
       "metadata": {},
       "output_type": "pyout",
       "prompt_number": 6,
       "text": [
        "'/usr/local/lib/python2.7/site-packages/matplotlib/mpl-data/matplotlibrc'"
       ]
      }
     ],
     "prompt_number": 6
    },
    {
     "cell_type": "code",
     "collapsed": false,
     "input": [
      "import matplotlib.font_manager as fm\n",
      "fm.findSystemFonts()[:10]"
     ],
     "language": "python",
     "metadata": {},
     "outputs": [
      {
       "metadata": {},
       "output_type": "pyout",
       "prompt_number": 11,
       "text": [
        "['/Library/Fonts/Microsoft/MS PGothic.ttf',\n",
        " '/Library/Fonts/Trebuchet MS Italic.ttf',\n",
        " '/usr/X11R6/lib/X11/fonts/TTF/VeraBd.ttf',\n",
        " '/Library/Fonts/Hoefler Text Ornaments.ttf',\n",
        " '/Library/Fonts/Microsoft/Meiryo Bold Italic.ttf',\n",
        " '/Library/Fonts/MshtakanRegular.ttf',\n",
        " '/usr/X11R6/lib/X11/fonts/TTF/VeraBI.ttf',\n",
        " '/System/Library/Fonts/\\xe3\\x83\\x92\\xe3\\x83\\xa9\\xe3\\x82\\xad\\xe3\\x82\\x99\\xe3\\x83\\x8e\\xe6\\x98\\x8e\\xe6\\x9c\\x9d ProN W6.otf',\n",
        " '/Library/Fonts/Osaka.ttf',\n",
        " '/Library/Fonts/Microsoft/Candara Italic.ttf']"
       ]
      }
     ],
     "prompt_number": 11
    },
    {
     "cell_type": "code",
     "collapsed": false,
     "input": [],
     "language": "python",
     "metadata": {},
     "outputs": []
    }
   ],
   "metadata": {}
  }
 ]
}