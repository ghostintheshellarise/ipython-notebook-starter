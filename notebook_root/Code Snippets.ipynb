{
 "metadata": {
  "name": "",
  "signature": "sha256:413c90099bba1c88e99da59397da930658d5a697b2cde284f8c31c30bfa7fda9"
 },
 "nbformat": 3,
 "nbformat_minor": 0,
 "worksheets": [
  {
   "cells": [
    {
     "cell_type": "code",
     "collapsed": false,
     "input": [
      "# Setup matplotlib\n",
      "%matplotlib inline\n",
      "import matplotlib.pyplot as plt"
     ],
     "language": "python",
     "metadata": {},
     "outputs": [],
     "prompt_number": 4
    },
    {
     "cell_type": "code",
     "collapsed": false,
     "input": [
      "plt.plot([[0,0], [1,1]])"
     ],
     "language": "python",
     "metadata": {},
     "outputs": [
      {
       "metadata": {},
       "output_type": "pyout",
       "prompt_number": 5,
       "text": [
        "[<matplotlib.lines.Line2D at 0x10a7d0bd0>,\n",
        " <matplotlib.lines.Line2D at 0x10a7d0e50>]"
       ]
      },
      {
       "metadata": {},
       "output_type": "display_data",
       "png": "[encoded data removed]",
       "text": [
        "<matplotlib.figure.Figure at 0x10a798710>"
       ]
      }
     ],
     "prompt_number": 5
    },
    {
     "cell_type": "code",
     "collapsed": false,
     "input": [
      "import numpy as np\n",
      "from matplotlib import pyplot\n",
      "from matplotlib import mlab\n",
      "\n",
      "mu    = np.array( [-2,-2] )\n",
      "sigma = np.array( [[3,1],[1,3]] )\n",
      "\n",
      "X, Y = np.meshgrid( np.linspace( -6, 3, 100 ),\n",
      "                    np.linspace( -6, 3, 100 ) )\n",
      "\n",
      "Z = mlab.bivariate_normal( X, Y,\n",
      "                           np.sqrt(sigma[ 0 ][ 0 ]),\n",
      "                           np.sqrt(sigma[ 1 ][ 1 ]),\n",
      "                           mu[ 0 ], mu[ 1 ],\n",
      "                           sigma[ 0 ][ 1 ] )\n",
      "\n",
      "plt.pcolor(X, Y, Z)"
     ],
     "language": "python",
     "metadata": {},
     "outputs": [
      {
       "metadata": {},
       "output_type": "pyout",
       "prompt_number": 6,
       "text": [
        "<matplotlib.collections.PolyCollection at 0x10a89ed10>"
       ]
      },
      {
       "metadata": {},
       "output_type": "display_data",
       "png": "[encoded data removed]",
       "text": [
        "<matplotlib.figure.Figure at 0x10a798d10>"
       ]
      }
     ],
     "prompt_number": 6
    },
    {
     "cell_type": "code",
     "collapsed": false,
     "input": [
      "#Setup sympy\n",
      "import sympy as sym\n",
      "sym.init_printing()"
     ],
     "language": "python",
     "metadata": {},
     "outputs": []
    },
    {
     "cell_type": "code",
     "collapsed": false,
     "input": [
      "from sympy.abc import n, x\n",
      "sym.integrate (x)"
     ],
     "language": "python",
     "metadata": {},
     "outputs": [
      {
       "latex": [
        "$$\\frac{x^{2}}{2}$$"
       ],
       "metadata": {},
       "output_type": "pyout",
       "png": "[encoded data removed]",
       "prompt_number": 84,
       "text": [
        " 2\n",
        "x \n",
        "\u2500\u2500\n",
        "2 "
       ]
      }
     ],
     "prompt_number": 84
    },
    {
     "cell_type": "code",
     "collapsed": false,
     "input": [
      "# Import numpy\n",
      "import numpy as np\n",
      "np.sin(30)"
     ],
     "language": "python",
     "metadata": {},
     "outputs": [
      {
       "metadata": {},
       "output_type": "pyout",
       "prompt_number": 1,
       "text": [
        "-0.98803162409286183"
       ]
      }
     ],
     "prompt_number": 1
    },
    {
     "cell_type": "markdown",
     "metadata": {},
     "source": [
      "$y = ax + b$"
     ]
    },
    {
     "cell_type": "code",
     "collapsed": false,
     "input": [
      "# debug\n",
      "def set_trace():\n",
      "    from IPython.core.debugger import Pdb\n",
      "    Pdb(color_scheme='Linux').set_trace(sys._getframe().f_back)\n",
      "    \n",
      "def debug(f, *args, **kwargs):\n",
      "    from IPython.core.debugger import Pdb\n",
      "    pdb = Pdb(color_scheme='Linux')\n",
      "    return pdb.runcall(f, *args, **kawags)"
     ],
     "language": "python",
     "metadata": {},
     "outputs": [],
     "prompt_number": 8
    }
   ],
   "metadata": {}
  }
 ]
}